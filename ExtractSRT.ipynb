{
 "cells": [
  {
   "cell_type": "code",
   "execution_count": 3,
   "metadata": {},
   "outputs": [
    {
     "name": "stderr",
     "output_type": "stream",
     "text": [
      "[2024-11-25 15:03:08.312] [ctranslate2] [thread 13136] [warning] The compute type inferred from the saved model is float16, but the target device or backend do not support efficient float16 computation. The model weights have been automatically converted to use the float32 compute type instead.\n",
      "100%|█████████▉| 1627.2499999999995/1627.25 [01:57<00:00, 13.82seconds/s]\n",
      "Transcribing: 745 segment [01:57,  6.33 segment/s]\n"
     ]
    }
   ],
   "source": [
    "from tqdm import tqdm\n",
    "from faster_whisper import WhisperModel\n",
    "\n",
    "# Load the Faster-Whisper model\n",
    "model_size = \"tiny\"  # Choose model size: tiny, base, small, medium, large-v2\n",
    "model = WhisperModel(model_size, device=\"cpu\")  # Use \"cuda\" if you have a compatible GPU\n",
    "\n",
    "# Transcribe the audio file\n",
    "audio_path = \"/home/alexander/Downloads/136. 隨便說說：騎腳踏車跌倒 [Wnyr_dx4isI].mp3\"\n",
    "segments, info = model.transcribe(audio_path, language=\"zh\",log_progress=True, beam_size=1)\n",
    "\n",
    "# Write the transcription to an SRT file with a progress bar\n",
    "srt_path = \"/home/alexander/Downloads/output_file.srt\"\n",
    "with open(srt_path, \"w\", encoding=\"utf-8\") as srt_file:\n",
    "    for i, segment in enumerate(tqdm(segments, desc=\"Transcribing\", unit=\" segment\"), start=1):\n",
    "        # Format timestamps\n",
    "        start_time = segment.start\n",
    "        end_time = segment.end\n",
    "        start = f\"{int(start_time // 3600):02}:{int((start_time % 3600) // 60):02}:{int(start_time % 60):02},{int((start_time % 1) * 1000):03}\"\n",
    "        end = f\"{int(end_time // 3600):02}:{int((end_time % 3600) // 60):02}:{int(end_time % 60):02},{int((end_time % 1) * 1000):03}\"\n",
    "\n",
    "        # Write to SRT file\n",
    "        srt_file.write(f\"{i}\\n{start} --> {end}\\n{segment.text.strip()}\\n\\n\")\n"
   ]
  }
 ],
 "metadata": {
  "kernelspec": {
   "display_name": "env_py310",
   "language": "python",
   "name": "python3"
  },
  "language_info": {
   "codemirror_mode": {
    "name": "ipython",
    "version": 3
   },
   "file_extension": ".py",
   "mimetype": "text/x-python",
   "name": "python",
   "nbconvert_exporter": "python",
   "pygments_lexer": "ipython3",
   "version": "3.10.13"
  }
 },
 "nbformat": 4,
 "nbformat_minor": 2
}
